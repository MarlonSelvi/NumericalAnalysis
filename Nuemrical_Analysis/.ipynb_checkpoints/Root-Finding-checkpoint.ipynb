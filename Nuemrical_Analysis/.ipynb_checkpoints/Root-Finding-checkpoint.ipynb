{
 "cells": [
  {
   "cell_type": "markdown",
   "id": "494ad61c-3e11-47b4-9773-eff0d2b185d1",
   "metadata": {},
   "source": [
    "# Marlon Selvi"
   ]
  },
  {
   "cell_type": "code",
   "execution_count": 3,
   "id": "0fcc5c3c-e847-4bb9-8944-e36a63ca6f25",
   "metadata": {},
   "outputs": [],
   "source": [
    "import numpy as np"
   ]
  },
  {
   "cell_type": "markdown",
   "id": "2a057e4f-f724-4e9d-b76c-83032ebe6d92",
   "metadata": {},
   "source": [
    "<center style=\" text-align: center; font-size: 40px\">Bisection Method</center>"
   ]
  },
  {
   "cell_type": "markdown",
   "id": "2ae05cff-8f8c-4b8e-83fc-33daa282f454",
   "metadata": {},
   "source": [
    "$$f(x) = x^3 - 2x - 3$$"
   ]
  },
  {
   "cell_type": "code",
   "execution_count": 94,
   "id": "36fd7f6f-69c5-4b0b-a88c-5f0217bd0529",
   "metadata": {},
   "outputs": [],
   "source": [
    "root = 1.89328919630449778891"
   ]
  },
  {
   "cell_type": "code",
   "execution_count": 95,
   "id": "59e234f1-5c41-456c-b6e5-03753b31384c",
   "metadata": {},
   "outputs": [],
   "source": [
    "def fnc(x):\n",
    "    return x**3 - 2*x - 3\n",
    "    "
   ]
  },
  {
   "cell_type": "code",
   "execution_count": 96,
   "id": "e6538582-ed6e-4661-80f2-12a88dc7ef23",
   "metadata": {},
   "outputs": [],
   "source": [
    "def deriv_fnc(x):\n",
    "    return 3*x**2 - 2"
   ]
  },
  {
   "cell_type": "code",
   "execution_count": 97,
   "id": "93183a33-c38c-497b-aa9f-b1f565fbd178",
   "metadata": {},
   "outputs": [],
   "source": [
    "def Bisection(fnc, a, b, n):\n",
    "    if(fnc(a) > 0):\n",
    "        pos = a\n",
    "        neg = b\n",
    "    else:\n",
    "        pos = b\n",
    "        neg = a\n",
    "        \n",
    "    mid = (neg + pos) / 2\n",
    "    for i in range(n):\n",
    "        if (fnc(mid) > 0):\n",
    "            pos = mid\n",
    "        else: \n",
    "            neg = mid\n",
    "        mid = (pos + neg) / 2\n",
    "            \n",
    "    return (pos + neg) / 2"
   ]
  },
  {
   "cell_type": "code",
   "execution_count": 106,
   "id": "a76ba55a-e95b-4ea0-9887-160783ad46e8",
   "metadata": {},
   "outputs": [
    {
     "name": "stdout",
     "output_type": "stream",
     "text": [
      " Bisection Approximation: 1.8932891963044975 \n",
      " Actual Error: 2.220446049250313e-16\n"
     ]
    }
   ],
   "source": [
    "approx = Bisection(fnc, 0.5, 2, 50)\n",
    "print(f\" Bisection Approximation: {approx} \\n Actual Error: {root - approx}\")"
   ]
  },
  {
   "cell_type": "markdown",
   "id": "515f25aa-09ab-4d5b-80b0-790cd3bbd4e6",
   "metadata": {},
   "source": [
    "<center style=\" text-align: center; font-size: 40px\">Newtons Method</center>\n",
    "\n",
    "$$ x_{n+1} = x_n - \\frac{f(x_n)}{f'(x_n)} $$"
   ]
  },
  {
   "cell_type": "code",
   "execution_count": 85,
   "id": "e2aacc44-db11-460f-bde6-c61ead74f6dc",
   "metadata": {},
   "outputs": [],
   "source": [
    "def Newtons(fnc, deriv_fnc, x_0, n):\n",
    "    x_n = x_0\n",
    "    for i in range(n):\n",
    "        frac = fnc(x_n) / deriv_fnc(x_n)\n",
    "        x_i = x_n - frac\n",
    "        x_n = x_i\n",
    "\n",
    "    return x_n\n",
    "\n",
    "    "
   ]
  },
  {
   "cell_type": "code",
   "execution_count": 137,
   "id": "87fa672c-8857-41bb-b94f-8935907d72f5",
   "metadata": {},
   "outputs": [
    {
     "name": "stdout",
     "output_type": "stream",
     "text": [
      " Bisection Approximation: 1.8932891963098097 \n",
      " Actual Error: -5.311973083621524e-12\n"
     ]
    }
   ],
   "source": [
    "approx = Newtons(fnc, deriv_fnc, 20, 10)\n",
    "print(f\" Bisection Approximation: {approx} \\n Actual Error: {root - approx}\")"
   ]
  },
  {
   "cell_type": "markdown",
   "id": "8572f72c-6b61-4f92-8330-8e06974f65e5",
   "metadata": {},
   "source": [
    "<center style=\" text-align: center; font-size: 40px\">Secant Method</center>\n",
    "$$ x_{n+1} = x_n - f(x_n) \\frac{x_n - x_{n-1}}{f(x_n) - f(x_{n-1})} $$"
   ]
  },
  {
   "cell_type": "code",
   "execution_count": 87,
   "id": "217b4470-4bb6-43c1-9401-9b29764db301",
   "metadata": {},
   "outputs": [],
   "source": [
    "def Secant_fnc(x):\n",
    "    return x**3 - 2*x - 3"
   ]
  },
  {
   "cell_type": "code",
   "execution_count": 88,
   "id": "558d0eca-f73a-4fd0-abec-19dca2a0cb55",
   "metadata": {},
   "outputs": [],
   "source": [
    "def Secant(fnc, x_0, x_1, n):\n",
    "    x_n = x_1\n",
    "    x_prev = x_0\n",
    "    x_next = 0\n",
    "    \n",
    "    for i in range(n):\n",
    "        frac = (x_n - x_prev) / (fnc(x_n) - fnc(x_prev))\n",
    "        x_next = x_n - (fnc(x_n) * frac)\n",
    "        x_prev = x_n\n",
    "        x_n = x_next\n",
    "\n",
    "    return x_n\n",
    "        "
   ]
  },
  {
   "cell_type": "code",
   "execution_count": 146,
   "id": "d608359d-f4a7-4796-b5b2-4b3c06092ad0",
   "metadata": {},
   "outputs": [
    {
     "name": "stdout",
     "output_type": "stream",
     "text": [
      "Secant Approximation: 1.8932891963046121 \n",
      " Actual Error: -1.1435297153639112e-13\n"
     ]
    }
   ],
   "source": [
    "approx = Secant(Secant_fnc,10, 5, 10)\n",
    "print(f\"Secant Approximation: {approx} \\n Actual Error: {root - approx}\") "
   ]
  }
 ],
 "metadata": {
  "kernelspec": {
   "display_name": "Python 3 (ipykernel)",
   "language": "python",
   "name": "python3"
  },
  "language_info": {
   "codemirror_mode": {
    "name": "ipython",
    "version": 3
   },
   "file_extension": ".py",
   "mimetype": "text/x-python",
   "name": "python",
   "nbconvert_exporter": "python",
   "pygments_lexer": "ipython3",
   "version": "3.13.2"
  }
 },
 "nbformat": 4,
 "nbformat_minor": 5
}
